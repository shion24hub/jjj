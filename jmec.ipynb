{
 "cells": [
  {
   "cell_type": "code",
   "execution_count": 40,
   "metadata": {},
   "outputs": [],
   "source": [
    "import pandas as pd\n",
    "import numpy as np\n",
    "from IPython.display import display"
   ]
  },
  {
   "cell_type": "code",
   "execution_count": 41,
   "metadata": {},
   "outputs": [
    {
     "data": {
      "text/html": [
       "<div>\n",
       "<style scoped>\n",
       "    .dataframe tbody tr th:only-of-type {\n",
       "        vertical-align: middle;\n",
       "    }\n",
       "\n",
       "    .dataframe tbody tr th {\n",
       "        vertical-align: top;\n",
       "    }\n",
       "\n",
       "    .dataframe thead th {\n",
       "        text-align: right;\n",
       "    }\n",
       "</style>\n",
       "<table border=\"1\" class=\"dataframe\">\n",
       "  <thead>\n",
       "    <tr style=\"text-align: right;\">\n",
       "      <th></th>\n",
       "      <th>0</th>\n",
       "      <th>1</th>\n",
       "    </tr>\n",
       "  </thead>\n",
       "  <tbody>\n",
       "    <tr>\n",
       "      <th>0</th>\n",
       "      <td>[表示値(1)]</td>\n",
       "      <td>表示1</td>\n",
       "    </tr>\n",
       "    <tr>\n",
       "      <th>1</th>\n",
       "      <td>テーブル名</td>\n",
       "      <td>テーブル1</td>\n",
       "    </tr>\n",
       "    <tr>\n",
       "      <th>2</th>\n",
       "      <td>項目名</td>\n",
       "      <td>項目1</td>\n",
       "    </tr>\n",
       "    <tr>\n",
       "      <th>3</th>\n",
       "      <td>条件</td>\n",
       "      <td>条件1</td>\n",
       "    </tr>\n",
       "    <tr>\n",
       "      <th>4</th>\n",
       "      <td>NaN</td>\n",
       "      <td>NaN</td>\n",
       "    </tr>\n",
       "    <tr>\n",
       "      <th>5</th>\n",
       "      <td>[表示値(2)]</td>\n",
       "      <td>表示2</td>\n",
       "    </tr>\n",
       "    <tr>\n",
       "      <th>6</th>\n",
       "      <td>テーブル名</td>\n",
       "      <td>テーブル2</td>\n",
       "    </tr>\n",
       "    <tr>\n",
       "      <th>7</th>\n",
       "      <td>項目名</td>\n",
       "      <td>項目2</td>\n",
       "    </tr>\n",
       "    <tr>\n",
       "      <th>8</th>\n",
       "      <td>条件</td>\n",
       "      <td>条件2</td>\n",
       "    </tr>\n",
       "    <tr>\n",
       "      <th>9</th>\n",
       "      <td>NaN</td>\n",
       "      <td>条件2</td>\n",
       "    </tr>\n",
       "    <tr>\n",
       "      <th>10</th>\n",
       "      <td>NaN</td>\n",
       "      <td>条件2</td>\n",
       "    </tr>\n",
       "    <tr>\n",
       "      <th>11</th>\n",
       "      <td>NaN</td>\n",
       "      <td>NaN</td>\n",
       "    </tr>\n",
       "    <tr>\n",
       "      <th>12</th>\n",
       "      <td>[表示値(3)]</td>\n",
       "      <td>表示3</td>\n",
       "    </tr>\n",
       "    <tr>\n",
       "      <th>13</th>\n",
       "      <td>テーブル名</td>\n",
       "      <td>テーブル3.1</td>\n",
       "    </tr>\n",
       "    <tr>\n",
       "      <th>14</th>\n",
       "      <td>項目名</td>\n",
       "      <td>項目3.1</td>\n",
       "    </tr>\n",
       "    <tr>\n",
       "      <th>15</th>\n",
       "      <td>条件</td>\n",
       "      <td>条件3.1</td>\n",
       "    </tr>\n",
       "    <tr>\n",
       "      <th>16</th>\n",
       "      <td>NaN</td>\n",
       "      <td>NaN</td>\n",
       "    </tr>\n",
       "    <tr>\n",
       "      <th>17</th>\n",
       "      <td>テーブル名</td>\n",
       "      <td>テーブル3.2</td>\n",
       "    </tr>\n",
       "    <tr>\n",
       "      <th>18</th>\n",
       "      <td>項目名</td>\n",
       "      <td>項目3.2</td>\n",
       "    </tr>\n",
       "    <tr>\n",
       "      <th>19</th>\n",
       "      <td>条件</td>\n",
       "      <td>条件3.2</td>\n",
       "    </tr>\n",
       "  </tbody>\n",
       "</table>\n",
       "</div>"
      ],
      "text/plain": [
       "           0        1\n",
       "0   [表示値(1)]      表示1\n",
       "1      テーブル名    テーブル1\n",
       "2        項目名      項目1\n",
       "3         条件      条件1\n",
       "4        NaN      NaN\n",
       "5   [表示値(2)]      表示2\n",
       "6      テーブル名    テーブル2\n",
       "7        項目名      項目2\n",
       "8         条件      条件2\n",
       "9        NaN      条件2\n",
       "10       NaN      条件2\n",
       "11       NaN      NaN\n",
       "12  [表示値(3)]      表示3\n",
       "13     テーブル名  テーブル3.1\n",
       "14       項目名    項目3.1\n",
       "15        条件    条件3.1\n",
       "16       NaN      NaN\n",
       "17     テーブル名  テーブル3.2\n",
       "18       項目名    項目3.2\n",
       "19        条件    条件3.2"
      ]
     },
     "metadata": {},
     "output_type": "display_data"
    },
    {
     "data": {
      "text/html": [
       "<pre style=\"white-space:pre;overflow-x:auto;line-height:normal;font-family:Menlo,'DejaVu Sans Mono',consolas,'Courier New',monospace\"><span style=\"color: #008080; text-decoration-color: #008080; font-weight: bold\">31</span>\n",
       "</pre>\n"
      ],
      "text/plain": [
       "\u001b[1;36m31\u001b[0m\n"
      ]
     },
     "metadata": {},
     "output_type": "display_data"
    }
   ],
   "source": [
    "ex = pd.read_excel('./実験用.xlsx', header=None)\n",
    "\n",
    "display(ex.head(20))\n",
    "print(len(ex))"
   ]
  },
  {
   "cell_type": "code",
   "execution_count": 42,
   "metadata": {},
   "outputs": [
    {
     "data": {
      "text/html": [
       "<pre style=\"white-space:pre;overflow-x:auto;line-height:normal;font-family:Menlo,'DejaVu Sans Mono',consolas,'Courier New',monospace\">ans_list\n",
       "</pre>\n"
      ],
      "text/plain": [
       "ans_list\n"
      ]
     },
     "metadata": {},
     "output_type": "display_data"
    },
    {
     "data": {
      "text/html": [
       "<pre style=\"white-space:pre;overflow-x:auto;line-height:normal;font-family:Menlo,'DejaVu Sans Mono',consolas,'Courier New',monospace\"><span style=\"font-weight: bold\">[</span>\n",
       "    <span style=\"font-weight: bold\">[</span><span style=\"color: #008000; text-decoration-color: #008000\">'[表示値(1)]'</span>, <span style=\"color: #008000; text-decoration-color: #008000\">'表示1'</span><span style=\"font-weight: bold\">]</span>,\n",
       "    <span style=\"font-weight: bold\">[</span><span style=\"color: #008000; text-decoration-color: #008000\">'テーブル名'</span>, <span style=\"color: #008000; text-decoration-color: #008000\">'テーブル1'</span><span style=\"font-weight: bold\">]</span>,\n",
       "    <span style=\"font-weight: bold\">[</span><span style=\"color: #008000; text-decoration-color: #008000\">'項目名'</span>, <span style=\"color: #008000; text-decoration-color: #008000\">'項目1'</span><span style=\"font-weight: bold\">]</span>,\n",
       "    <span style=\"font-weight: bold\">[</span><span style=\"color: #008000; text-decoration-color: #008000\">'条件'</span>, <span style=\"color: #008000; text-decoration-color: #008000\">'条件1'</span><span style=\"font-weight: bold\">]</span>,\n",
       "    <span style=\"font-weight: bold\">[</span><span style=\"color: #008000; text-decoration-color: #008000\">'[表示値(2)]'</span>, <span style=\"color: #008000; text-decoration-color: #008000\">'表示2'</span><span style=\"font-weight: bold\">]</span>,\n",
       "    <span style=\"font-weight: bold\">[</span><span style=\"color: #008000; text-decoration-color: #008000\">'テーブル名'</span>, <span style=\"color: #008000; text-decoration-color: #008000\">'テーブル2'</span><span style=\"font-weight: bold\">]</span>,\n",
       "    <span style=\"font-weight: bold\">[</span><span style=\"color: #008000; text-decoration-color: #008000\">'項目名'</span>, <span style=\"color: #008000; text-decoration-color: #008000\">'項目2'</span><span style=\"font-weight: bold\">]</span>,\n",
       "    <span style=\"font-weight: bold\">[</span><span style=\"color: #008000; text-decoration-color: #008000\">'条件'</span>, <span style=\"color: #008000; text-decoration-color: #008000\">'条件2 条件2 条件2'</span><span style=\"font-weight: bold\">]</span>,\n",
       "    <span style=\"font-weight: bold\">[</span><span style=\"color: #008000; text-decoration-color: #008000\">'[表示値(3)]'</span>, <span style=\"color: #008000; text-decoration-color: #008000\">'表示3'</span><span style=\"font-weight: bold\">]</span>,\n",
       "    <span style=\"font-weight: bold\">[</span><span style=\"color: #008000; text-decoration-color: #008000\">'テーブル名'</span>, <span style=\"color: #008000; text-decoration-color: #008000\">'テーブル3.1'</span><span style=\"font-weight: bold\">]</span>,\n",
       "    <span style=\"font-weight: bold\">[</span><span style=\"color: #008000; text-decoration-color: #008000\">'項目名'</span>, <span style=\"color: #008000; text-decoration-color: #008000\">'項目3.1'</span><span style=\"font-weight: bold\">]</span>,\n",
       "    <span style=\"font-weight: bold\">[</span><span style=\"color: #008000; text-decoration-color: #008000\">'条件'</span>, <span style=\"color: #008000; text-decoration-color: #008000\">'条件3.1'</span><span style=\"font-weight: bold\">]</span>,\n",
       "    <span style=\"font-weight: bold\">[</span><span style=\"color: #008000; text-decoration-color: #008000\">'テーブル名'</span>, <span style=\"color: #008000; text-decoration-color: #008000\">'テーブル3.2'</span><span style=\"font-weight: bold\">]</span>,\n",
       "    <span style=\"font-weight: bold\">[</span><span style=\"color: #008000; text-decoration-color: #008000\">'項目名'</span>, <span style=\"color: #008000; text-decoration-color: #008000\">'項目3.2'</span><span style=\"font-weight: bold\">]</span>,\n",
       "    <span style=\"font-weight: bold\">[</span><span style=\"color: #008000; text-decoration-color: #008000\">'条件'</span>, <span style=\"color: #008000; text-decoration-color: #008000\">'条件3.2'</span><span style=\"font-weight: bold\">]</span>,\n",
       "    <span style=\"font-weight: bold\">[</span><span style=\"color: #008000; text-decoration-color: #008000\">'[表示値(4)]'</span>, <span style=\"color: #008000; text-decoration-color: #008000\">'表示4'</span><span style=\"font-weight: bold\">]</span>,\n",
       "    <span style=\"font-weight: bold\">[</span><span style=\"color: #008000; text-decoration-color: #008000\">'テーブル名'</span>, <span style=\"color: #008000; text-decoration-color: #008000\">'テーブル4.1'</span><span style=\"font-weight: bold\">]</span>,\n",
       "    <span style=\"font-weight: bold\">[</span><span style=\"color: #008000; text-decoration-color: #008000\">'項目名'</span>, <span style=\"color: #008000; text-decoration-color: #008000\">'項目4.1'</span><span style=\"font-weight: bold\">]</span>,\n",
       "    <span style=\"font-weight: bold\">[</span><span style=\"color: #008000; text-decoration-color: #008000\">'条件'</span>, <span style=\"color: #008000; text-decoration-color: #008000\">'条件4.1 条件4.1'</span><span style=\"font-weight: bold\">]</span>,\n",
       "    <span style=\"font-weight: bold\">[</span><span style=\"color: #008000; text-decoration-color: #008000\">'テーブル名'</span>, <span style=\"color: #008000; text-decoration-color: #008000\">'テーブル4.2'</span><span style=\"font-weight: bold\">]</span>,\n",
       "    <span style=\"font-weight: bold\">[</span><span style=\"color: #008000; text-decoration-color: #008000\">'項目名'</span>, <span style=\"color: #008000; text-decoration-color: #008000\">'項目4.2'</span><span style=\"font-weight: bold\">]</span>,\n",
       "    <span style=\"font-weight: bold\">[</span><span style=\"color: #008000; text-decoration-color: #008000\">'条件'</span>, <span style=\"color: #008000; text-decoration-color: #008000\">'条件4.2 条件4.2'</span><span style=\"font-weight: bold\">]</span>\n",
       "<span style=\"font-weight: bold\">]</span>\n",
       "</pre>\n"
      ],
      "text/plain": [
       "\u001b[1m[\u001b[0m\n",
       "    \u001b[1m[\u001b[0m\u001b[32m'\u001b[0m\u001b[32m[\u001b[0m\u001b[32m表示値\u001b[0m\u001b[32m(\u001b[0m\u001b[32m1\u001b[0m\u001b[32m)\u001b[0m\u001b[32m]\u001b[0m\u001b[32m'\u001b[0m, \u001b[32m'表示1'\u001b[0m\u001b[1m]\u001b[0m,\n",
       "    \u001b[1m[\u001b[0m\u001b[32m'テーブル名'\u001b[0m, \u001b[32m'テーブル1'\u001b[0m\u001b[1m]\u001b[0m,\n",
       "    \u001b[1m[\u001b[0m\u001b[32m'項目名'\u001b[0m, \u001b[32m'項目1'\u001b[0m\u001b[1m]\u001b[0m,\n",
       "    \u001b[1m[\u001b[0m\u001b[32m'条件'\u001b[0m, \u001b[32m'条件1'\u001b[0m\u001b[1m]\u001b[0m,\n",
       "    \u001b[1m[\u001b[0m\u001b[32m'\u001b[0m\u001b[32m[\u001b[0m\u001b[32m表示値\u001b[0m\u001b[32m(\u001b[0m\u001b[32m2\u001b[0m\u001b[32m)\u001b[0m\u001b[32m]\u001b[0m\u001b[32m'\u001b[0m, \u001b[32m'表示2'\u001b[0m\u001b[1m]\u001b[0m,\n",
       "    \u001b[1m[\u001b[0m\u001b[32m'テーブル名'\u001b[0m, \u001b[32m'テーブル2'\u001b[0m\u001b[1m]\u001b[0m,\n",
       "    \u001b[1m[\u001b[0m\u001b[32m'項目名'\u001b[0m, \u001b[32m'項目2'\u001b[0m\u001b[1m]\u001b[0m,\n",
       "    \u001b[1m[\u001b[0m\u001b[32m'条件'\u001b[0m, \u001b[32m'条件2 条件2 条件2'\u001b[0m\u001b[1m]\u001b[0m,\n",
       "    \u001b[1m[\u001b[0m\u001b[32m'\u001b[0m\u001b[32m[\u001b[0m\u001b[32m表示値\u001b[0m\u001b[32m(\u001b[0m\u001b[32m3\u001b[0m\u001b[32m)\u001b[0m\u001b[32m]\u001b[0m\u001b[32m'\u001b[0m, \u001b[32m'表示3'\u001b[0m\u001b[1m]\u001b[0m,\n",
       "    \u001b[1m[\u001b[0m\u001b[32m'テーブル名'\u001b[0m, \u001b[32m'テーブル3.1'\u001b[0m\u001b[1m]\u001b[0m,\n",
       "    \u001b[1m[\u001b[0m\u001b[32m'項目名'\u001b[0m, \u001b[32m'項目3.1'\u001b[0m\u001b[1m]\u001b[0m,\n",
       "    \u001b[1m[\u001b[0m\u001b[32m'条件'\u001b[0m, \u001b[32m'条件3.1'\u001b[0m\u001b[1m]\u001b[0m,\n",
       "    \u001b[1m[\u001b[0m\u001b[32m'テーブル名'\u001b[0m, \u001b[32m'テーブル3.2'\u001b[0m\u001b[1m]\u001b[0m,\n",
       "    \u001b[1m[\u001b[0m\u001b[32m'項目名'\u001b[0m, \u001b[32m'項目3.2'\u001b[0m\u001b[1m]\u001b[0m,\n",
       "    \u001b[1m[\u001b[0m\u001b[32m'条件'\u001b[0m, \u001b[32m'条件3.2'\u001b[0m\u001b[1m]\u001b[0m,\n",
       "    \u001b[1m[\u001b[0m\u001b[32m'\u001b[0m\u001b[32m[\u001b[0m\u001b[32m表示値\u001b[0m\u001b[32m(\u001b[0m\u001b[32m4\u001b[0m\u001b[32m)\u001b[0m\u001b[32m]\u001b[0m\u001b[32m'\u001b[0m, \u001b[32m'表示4'\u001b[0m\u001b[1m]\u001b[0m,\n",
       "    \u001b[1m[\u001b[0m\u001b[32m'テーブル名'\u001b[0m, \u001b[32m'テーブル4.1'\u001b[0m\u001b[1m]\u001b[0m,\n",
       "    \u001b[1m[\u001b[0m\u001b[32m'項目名'\u001b[0m, \u001b[32m'項目4.1'\u001b[0m\u001b[1m]\u001b[0m,\n",
       "    \u001b[1m[\u001b[0m\u001b[32m'条件'\u001b[0m, \u001b[32m'条件4.1 条件4.1'\u001b[0m\u001b[1m]\u001b[0m,\n",
       "    \u001b[1m[\u001b[0m\u001b[32m'テーブル名'\u001b[0m, \u001b[32m'テーブル4.2'\u001b[0m\u001b[1m]\u001b[0m,\n",
       "    \u001b[1m[\u001b[0m\u001b[32m'項目名'\u001b[0m, \u001b[32m'項目4.2'\u001b[0m\u001b[1m]\u001b[0m,\n",
       "    \u001b[1m[\u001b[0m\u001b[32m'条件'\u001b[0m, \u001b[32m'条件4.2 条件4.2'\u001b[0m\u001b[1m]\u001b[0m\n",
       "\u001b[1m]\u001b[0m\n"
      ]
     },
     "metadata": {},
     "output_type": "display_data"
    },
    {
     "data": {
      "text/html": [
       "<pre style=\"white-space:pre;overflow-x:auto;line-height:normal;font-family:Menlo,'DejaVu Sans Mono',consolas,'Courier New',monospace\">key_indices\n",
       "</pre>\n"
      ],
      "text/plain": [
       "key_indices\n"
      ]
     },
     "metadata": {},
     "output_type": "display_data"
    },
    {
     "data": {
      "text/html": [
       "<pre style=\"white-space:pre;overflow-x:auto;line-height:normal;font-family:Menlo,'DejaVu Sans Mono',consolas,'Courier New',monospace\"><span style=\"font-weight: bold\">[</span><span style=\"color: #008080; text-decoration-color: #008080; font-weight: bold\">0</span>, <span style=\"color: #008080; text-decoration-color: #008080; font-weight: bold\">4</span>, <span style=\"color: #008080; text-decoration-color: #008080; font-weight: bold\">8</span>, <span style=\"color: #008080; text-decoration-color: #008080; font-weight: bold\">15</span>, <span style=\"color: #008080; text-decoration-color: #008080; font-weight: bold\">22</span><span style=\"font-weight: bold\">]</span>\n",
       "</pre>\n"
      ],
      "text/plain": [
       "\u001b[1m[\u001b[0m\u001b[1;36m0\u001b[0m, \u001b[1;36m4\u001b[0m, \u001b[1;36m8\u001b[0m, \u001b[1;36m15\u001b[0m, \u001b[1;36m22\u001b[0m\u001b[1m]\u001b[0m\n"
      ]
     },
     "metadata": {},
     "output_type": "display_data"
    },
    {
     "data": {
      "text/html": [
       "<pre style=\"white-space:pre;overflow-x:auto;line-height:normal;font-family:Menlo,'DejaVu Sans Mono',consolas,'Courier New',monospace\">continual_section_cnts\n",
       "</pre>\n"
      ],
      "text/plain": [
       "continual_section_cnts\n"
      ]
     },
     "metadata": {},
     "output_type": "display_data"
    },
    {
     "data": {
      "text/html": [
       "<pre style=\"white-space:pre;overflow-x:auto;line-height:normal;font-family:Menlo,'DejaVu Sans Mono',consolas,'Courier New',monospace\"><span style=\"font-weight: bold\">[</span><span style=\"color: #008080; text-decoration-color: #008080; font-weight: bold\">1</span>, <span style=\"color: #008080; text-decoration-color: #008080; font-weight: bold\">1</span>, <span style=\"color: #008080; text-decoration-color: #008080; font-weight: bold\">2</span>, <span style=\"color: #008080; text-decoration-color: #008080; font-weight: bold\">2</span><span style=\"font-weight: bold\">]</span>\n",
       "</pre>\n"
      ],
      "text/plain": [
       "\u001b[1m[\u001b[0m\u001b[1;36m1\u001b[0m, \u001b[1;36m1\u001b[0m, \u001b[1;36m2\u001b[0m, \u001b[1;36m2\u001b[0m\u001b[1m]\u001b[0m\n"
      ]
     },
     "metadata": {},
     "output_type": "display_data"
    },
    {
     "data": {
      "text/html": [
       "<pre style=\"white-space:pre;overflow-x:auto;line-height:normal;font-family:Menlo,'DejaVu Sans Mono',consolas,'Courier New',monospace\">\n",
       "</pre>\n"
      ],
      "text/plain": [
       "\n"
      ]
     },
     "metadata": {},
     "output_type": "display_data"
    },
    {
     "data": {
      "text/html": [
       "<pre style=\"white-space:pre;overflow-x:auto;line-height:normal;font-family:Menlo,'DejaVu Sans Mono',consolas,'Courier New',monospace\">Structure\n",
       "</pre>\n"
      ],
      "text/plain": [
       "Structure\n"
      ]
     },
     "metadata": {},
     "output_type": "display_data"
    },
    {
     "data": {
      "text/html": [
       "<pre style=\"white-space:pre;overflow-x:auto;line-height:normal;font-family:Menlo,'DejaVu Sans Mono',consolas,'Courier New',monospace\">\n",
       "</pre>\n"
      ],
      "text/plain": [
       "\n"
      ]
     },
     "metadata": {},
     "output_type": "display_data"
    },
    {
     "data": {
      "text/html": [
       "<pre style=\"white-space:pre;overflow-x:auto;line-height:normal;font-family:Menlo,'DejaVu Sans Mono',consolas,'Courier New',monospace\">KEY: <span style=\"font-weight: bold\">[</span><span style=\"color: #800080; text-decoration-color: #800080; font-weight: bold\">表示値</span><span style=\"font-weight: bold\">(</span><span style=\"color: #008080; text-decoration-color: #008080; font-weight: bold\">1</span><span style=\"font-weight: bold\">)]</span>\n",
       "</pre>\n"
      ],
      "text/plain": [
       "KEY: \u001b[1m[\u001b[0m\u001b[1;35m表示値\u001b[0m\u001b[1m(\u001b[0m\u001b[1;36m1\u001b[0m\u001b[1m)\u001b[0m\u001b[1m]\u001b[0m\n"
      ]
     },
     "metadata": {},
     "output_type": "display_data"
    },
    {
     "data": {
      "text/html": [
       "<pre style=\"white-space:pre;overflow-x:auto;line-height:normal;font-family:Menlo,'DejaVu Sans Mono',consolas,'Courier New',monospace\">  section <span style=\"color: #008080; text-decoration-color: #008080; font-weight: bold\">1</span>\n",
       "</pre>\n"
      ],
      "text/plain": [
       "  section \u001b[1;36m1\u001b[0m\n"
      ]
     },
     "metadata": {},
     "output_type": "display_data"
    },
    {
     "data": {
      "text/html": [
       "<pre style=\"white-space:pre;overflow-x:auto;line-height:normal;font-family:Menlo,'DejaVu Sans Mono',consolas,'Courier New',monospace\">    テーブル名: テーブル1\n",
       "</pre>\n"
      ],
      "text/plain": [
       "    テーブル名: テーブル1\n"
      ]
     },
     "metadata": {},
     "output_type": "display_data"
    },
    {
     "data": {
      "text/html": [
       "<pre style=\"white-space:pre;overflow-x:auto;line-height:normal;font-family:Menlo,'DejaVu Sans Mono',consolas,'Courier New',monospace\">    項目名: 項目1\n",
       "</pre>\n"
      ],
      "text/plain": [
       "    項目名: 項目1\n"
      ]
     },
     "metadata": {},
     "output_type": "display_data"
    },
    {
     "data": {
      "text/html": [
       "<pre style=\"white-space:pre;overflow-x:auto;line-height:normal;font-family:Menlo,'DejaVu Sans Mono',consolas,'Courier New',monospace\">    条件: 条件1\n",
       "</pre>\n"
      ],
      "text/plain": [
       "    条件: 条件1\n"
      ]
     },
     "metadata": {},
     "output_type": "display_data"
    },
    {
     "data": {
      "text/html": [
       "<pre style=\"white-space:pre;overflow-x:auto;line-height:normal;font-family:Menlo,'DejaVu Sans Mono',consolas,'Courier New',monospace\">KEY: <span style=\"font-weight: bold\">[</span><span style=\"color: #800080; text-decoration-color: #800080; font-weight: bold\">表示値</span><span style=\"font-weight: bold\">(</span><span style=\"color: #008080; text-decoration-color: #008080; font-weight: bold\">2</span><span style=\"font-weight: bold\">)]</span>\n",
       "</pre>\n"
      ],
      "text/plain": [
       "KEY: \u001b[1m[\u001b[0m\u001b[1;35m表示値\u001b[0m\u001b[1m(\u001b[0m\u001b[1;36m2\u001b[0m\u001b[1m)\u001b[0m\u001b[1m]\u001b[0m\n"
      ]
     },
     "metadata": {},
     "output_type": "display_data"
    },
    {
     "data": {
      "text/html": [
       "<pre style=\"white-space:pre;overflow-x:auto;line-height:normal;font-family:Menlo,'DejaVu Sans Mono',consolas,'Courier New',monospace\">  section <span style=\"color: #008080; text-decoration-color: #008080; font-weight: bold\">1</span>\n",
       "</pre>\n"
      ],
      "text/plain": [
       "  section \u001b[1;36m1\u001b[0m\n"
      ]
     },
     "metadata": {},
     "output_type": "display_data"
    },
    {
     "data": {
      "text/html": [
       "<pre style=\"white-space:pre;overflow-x:auto;line-height:normal;font-family:Menlo,'DejaVu Sans Mono',consolas,'Courier New',monospace\">    テーブル名: テーブル2\n",
       "</pre>\n"
      ],
      "text/plain": [
       "    テーブル名: テーブル2\n"
      ]
     },
     "metadata": {},
     "output_type": "display_data"
    },
    {
     "data": {
      "text/html": [
       "<pre style=\"white-space:pre;overflow-x:auto;line-height:normal;font-family:Menlo,'DejaVu Sans Mono',consolas,'Courier New',monospace\">    項目名: 項目2\n",
       "</pre>\n"
      ],
      "text/plain": [
       "    項目名: 項目2\n"
      ]
     },
     "metadata": {},
     "output_type": "display_data"
    },
    {
     "data": {
      "text/html": [
       "<pre style=\"white-space:pre;overflow-x:auto;line-height:normal;font-family:Menlo,'DejaVu Sans Mono',consolas,'Courier New',monospace\">    条件: 条件2 条件2 条件2\n",
       "</pre>\n"
      ],
      "text/plain": [
       "    条件: 条件2 条件2 条件2\n"
      ]
     },
     "metadata": {},
     "output_type": "display_data"
    },
    {
     "data": {
      "text/html": [
       "<pre style=\"white-space:pre;overflow-x:auto;line-height:normal;font-family:Menlo,'DejaVu Sans Mono',consolas,'Courier New',monospace\">KEY: <span style=\"font-weight: bold\">[</span><span style=\"color: #800080; text-decoration-color: #800080; font-weight: bold\">表示値</span><span style=\"font-weight: bold\">(</span><span style=\"color: #008080; text-decoration-color: #008080; font-weight: bold\">3</span><span style=\"font-weight: bold\">)]</span>\n",
       "</pre>\n"
      ],
      "text/plain": [
       "KEY: \u001b[1m[\u001b[0m\u001b[1;35m表示値\u001b[0m\u001b[1m(\u001b[0m\u001b[1;36m3\u001b[0m\u001b[1m)\u001b[0m\u001b[1m]\u001b[0m\n"
      ]
     },
     "metadata": {},
     "output_type": "display_data"
    },
    {
     "data": {
      "text/html": [
       "<pre style=\"white-space:pre;overflow-x:auto;line-height:normal;font-family:Menlo,'DejaVu Sans Mono',consolas,'Courier New',monospace\">  section <span style=\"color: #008080; text-decoration-color: #008080; font-weight: bold\">1</span>\n",
       "</pre>\n"
      ],
      "text/plain": [
       "  section \u001b[1;36m1\u001b[0m\n"
      ]
     },
     "metadata": {},
     "output_type": "display_data"
    },
    {
     "data": {
      "text/html": [
       "<pre style=\"white-space:pre;overflow-x:auto;line-height:normal;font-family:Menlo,'DejaVu Sans Mono',consolas,'Courier New',monospace\">    テーブル名: テーブル3.<span style=\"color: #008080; text-decoration-color: #008080; font-weight: bold\">1</span>\n",
       "</pre>\n"
      ],
      "text/plain": [
       "    テーブル名: テーブル3.\u001b[1;36m1\u001b[0m\n"
      ]
     },
     "metadata": {},
     "output_type": "display_data"
    },
    {
     "data": {
      "text/html": [
       "<pre style=\"white-space:pre;overflow-x:auto;line-height:normal;font-family:Menlo,'DejaVu Sans Mono',consolas,'Courier New',monospace\">    項目名: 項目3.<span style=\"color: #008080; text-decoration-color: #008080; font-weight: bold\">1</span>\n",
       "</pre>\n"
      ],
      "text/plain": [
       "    項目名: 項目3.\u001b[1;36m1\u001b[0m\n"
      ]
     },
     "metadata": {},
     "output_type": "display_data"
    },
    {
     "data": {
      "text/html": [
       "<pre style=\"white-space:pre;overflow-x:auto;line-height:normal;font-family:Menlo,'DejaVu Sans Mono',consolas,'Courier New',monospace\">    条件: 条件3.<span style=\"color: #008080; text-decoration-color: #008080; font-weight: bold\">1</span>\n",
       "</pre>\n"
      ],
      "text/plain": [
       "    条件: 条件3.\u001b[1;36m1\u001b[0m\n"
      ]
     },
     "metadata": {},
     "output_type": "display_data"
    },
    {
     "data": {
      "text/html": [
       "<pre style=\"white-space:pre;overflow-x:auto;line-height:normal;font-family:Menlo,'DejaVu Sans Mono',consolas,'Courier New',monospace\">  section <span style=\"color: #008080; text-decoration-color: #008080; font-weight: bold\">2</span>\n",
       "</pre>\n"
      ],
      "text/plain": [
       "  section \u001b[1;36m2\u001b[0m\n"
      ]
     },
     "metadata": {},
     "output_type": "display_data"
    },
    {
     "data": {
      "text/html": [
       "<pre style=\"white-space:pre;overflow-x:auto;line-height:normal;font-family:Menlo,'DejaVu Sans Mono',consolas,'Courier New',monospace\">    テーブル名: テーブル3.<span style=\"color: #008080; text-decoration-color: #008080; font-weight: bold\">2</span>\n",
       "</pre>\n"
      ],
      "text/plain": [
       "    テーブル名: テーブル3.\u001b[1;36m2\u001b[0m\n"
      ]
     },
     "metadata": {},
     "output_type": "display_data"
    },
    {
     "data": {
      "text/html": [
       "<pre style=\"white-space:pre;overflow-x:auto;line-height:normal;font-family:Menlo,'DejaVu Sans Mono',consolas,'Courier New',monospace\">    項目名: 項目3.<span style=\"color: #008080; text-decoration-color: #008080; font-weight: bold\">2</span>\n",
       "</pre>\n"
      ],
      "text/plain": [
       "    項目名: 項目3.\u001b[1;36m2\u001b[0m\n"
      ]
     },
     "metadata": {},
     "output_type": "display_data"
    },
    {
     "data": {
      "text/html": [
       "<pre style=\"white-space:pre;overflow-x:auto;line-height:normal;font-family:Menlo,'DejaVu Sans Mono',consolas,'Courier New',monospace\">    条件: 条件3.<span style=\"color: #008080; text-decoration-color: #008080; font-weight: bold\">2</span>\n",
       "</pre>\n"
      ],
      "text/plain": [
       "    条件: 条件3.\u001b[1;36m2\u001b[0m\n"
      ]
     },
     "metadata": {},
     "output_type": "display_data"
    },
    {
     "data": {
      "text/html": [
       "<pre style=\"white-space:pre;overflow-x:auto;line-height:normal;font-family:Menlo,'DejaVu Sans Mono',consolas,'Courier New',monospace\">KEY: <span style=\"font-weight: bold\">[</span><span style=\"color: #800080; text-decoration-color: #800080; font-weight: bold\">表示値</span><span style=\"font-weight: bold\">(</span><span style=\"color: #008080; text-decoration-color: #008080; font-weight: bold\">4</span><span style=\"font-weight: bold\">)]</span>\n",
       "</pre>\n"
      ],
      "text/plain": [
       "KEY: \u001b[1m[\u001b[0m\u001b[1;35m表示値\u001b[0m\u001b[1m(\u001b[0m\u001b[1;36m4\u001b[0m\u001b[1m)\u001b[0m\u001b[1m]\u001b[0m\n"
      ]
     },
     "metadata": {},
     "output_type": "display_data"
    },
    {
     "data": {
      "text/html": [
       "<pre style=\"white-space:pre;overflow-x:auto;line-height:normal;font-family:Menlo,'DejaVu Sans Mono',consolas,'Courier New',monospace\">  section <span style=\"color: #008080; text-decoration-color: #008080; font-weight: bold\">1</span>\n",
       "</pre>\n"
      ],
      "text/plain": [
       "  section \u001b[1;36m1\u001b[0m\n"
      ]
     },
     "metadata": {},
     "output_type": "display_data"
    },
    {
     "data": {
      "text/html": [
       "<pre style=\"white-space:pre;overflow-x:auto;line-height:normal;font-family:Menlo,'DejaVu Sans Mono',consolas,'Courier New',monospace\">    テーブル名: テーブル4.<span style=\"color: #008080; text-decoration-color: #008080; font-weight: bold\">1</span>\n",
       "</pre>\n"
      ],
      "text/plain": [
       "    テーブル名: テーブル4.\u001b[1;36m1\u001b[0m\n"
      ]
     },
     "metadata": {},
     "output_type": "display_data"
    },
    {
     "data": {
      "text/html": [
       "<pre style=\"white-space:pre;overflow-x:auto;line-height:normal;font-family:Menlo,'DejaVu Sans Mono',consolas,'Courier New',monospace\">    項目名: 項目4.<span style=\"color: #008080; text-decoration-color: #008080; font-weight: bold\">1</span>\n",
       "</pre>\n"
      ],
      "text/plain": [
       "    項目名: 項目4.\u001b[1;36m1\u001b[0m\n"
      ]
     },
     "metadata": {},
     "output_type": "display_data"
    },
    {
     "data": {
      "text/html": [
       "<pre style=\"white-space:pre;overflow-x:auto;line-height:normal;font-family:Menlo,'DejaVu Sans Mono',consolas,'Courier New',monospace\">    条件: 条件4.<span style=\"color: #008080; text-decoration-color: #008080; font-weight: bold\">1</span> 条件4.<span style=\"color: #008080; text-decoration-color: #008080; font-weight: bold\">1</span>\n",
       "</pre>\n"
      ],
      "text/plain": [
       "    条件: 条件4.\u001b[1;36m1\u001b[0m 条件4.\u001b[1;36m1\u001b[0m\n"
      ]
     },
     "metadata": {},
     "output_type": "display_data"
    },
    {
     "data": {
      "text/html": [
       "<pre style=\"white-space:pre;overflow-x:auto;line-height:normal;font-family:Menlo,'DejaVu Sans Mono',consolas,'Courier New',monospace\">  section <span style=\"color: #008080; text-decoration-color: #008080; font-weight: bold\">2</span>\n",
       "</pre>\n"
      ],
      "text/plain": [
       "  section \u001b[1;36m2\u001b[0m\n"
      ]
     },
     "metadata": {},
     "output_type": "display_data"
    },
    {
     "data": {
      "text/html": [
       "<pre style=\"white-space:pre;overflow-x:auto;line-height:normal;font-family:Menlo,'DejaVu Sans Mono',consolas,'Courier New',monospace\">    テーブル名: テーブル4.<span style=\"color: #008080; text-decoration-color: #008080; font-weight: bold\">2</span>\n",
       "</pre>\n"
      ],
      "text/plain": [
       "    テーブル名: テーブル4.\u001b[1;36m2\u001b[0m\n"
      ]
     },
     "metadata": {},
     "output_type": "display_data"
    },
    {
     "data": {
      "text/html": [
       "<pre style=\"white-space:pre;overflow-x:auto;line-height:normal;font-family:Menlo,'DejaVu Sans Mono',consolas,'Courier New',monospace\">    項目名: 項目4.<span style=\"color: #008080; text-decoration-color: #008080; font-weight: bold\">2</span>\n",
       "</pre>\n"
      ],
      "text/plain": [
       "    項目名: 項目4.\u001b[1;36m2\u001b[0m\n"
      ]
     },
     "metadata": {},
     "output_type": "display_data"
    },
    {
     "data": {
      "text/html": [
       "<pre style=\"white-space:pre;overflow-x:auto;line-height:normal;font-family:Menlo,'DejaVu Sans Mono',consolas,'Courier New',monospace\">    条件: 条件4.<span style=\"color: #008080; text-decoration-color: #008080; font-weight: bold\">2</span> 条件4.<span style=\"color: #008080; text-decoration-color: #008080; font-weight: bold\">2</span>\n",
       "</pre>\n"
      ],
      "text/plain": [
       "    条件: 条件4.\u001b[1;36m2\u001b[0m 条件4.\u001b[1;36m2\u001b[0m\n"
      ]
     },
     "metadata": {},
     "output_type": "display_data"
    },
    {
     "data": {
      "text/html": [
       "<pre style=\"white-space:pre;overflow-x:auto;line-height:normal;font-family:Menlo,'DejaVu Sans Mono',consolas,'Courier New',monospace\">data\n",
       "</pre>\n"
      ],
      "text/plain": [
       "data\n"
      ]
     },
     "metadata": {},
     "output_type": "display_data"
    },
    {
     "data": {
      "text/html": [
       "<pre style=\"white-space:pre;overflow-x:auto;line-height:normal;font-family:Menlo,'DejaVu Sans Mono',consolas,'Courier New',monospace\"><span style=\"font-weight: bold\">[</span>\n",
       "    <span style=\"font-weight: bold\">[</span><span style=\"color: #008000; text-decoration-color: #008000\">'表示1'</span>, <span style=\"color: #008000; text-decoration-color: #008000\">'テーブル1'</span>, <span style=\"color: #008000; text-decoration-color: #008000\">'項目1'</span>, <span style=\"color: #008000; text-decoration-color: #008000\">'条件1'</span><span style=\"font-weight: bold\">]</span>,\n",
       "    <span style=\"font-weight: bold\">[</span><span style=\"color: #008000; text-decoration-color: #008000\">'表示2'</span>, <span style=\"color: #008000; text-decoration-color: #008000\">'テーブル2'</span>, <span style=\"color: #008000; text-decoration-color: #008000\">'項目2'</span>, <span style=\"color: #008000; text-decoration-color: #008000\">'条件2 条件2 条件2'</span><span style=\"font-weight: bold\">]</span>,\n",
       "    <span style=\"font-weight: bold\">[</span><span style=\"color: #008000; text-decoration-color: #008000\">'表示3'</span>, <span style=\"color: #008000; text-decoration-color: #008000\">'テーブル3.1'</span>, <span style=\"color: #008000; text-decoration-color: #008000\">'項目3.1'</span>, <span style=\"color: #008000; text-decoration-color: #008000\">'条件3.1'</span><span style=\"font-weight: bold\">]</span>,\n",
       "    <span style=\"font-weight: bold\">[</span><span style=\"color: #008000; text-decoration-color: #008000\">'表示3'</span>, <span style=\"color: #008000; text-decoration-color: #008000\">'テーブル3.2'</span>, <span style=\"color: #008000; text-decoration-color: #008000\">'項目3.2'</span>, <span style=\"color: #008000; text-decoration-color: #008000\">'条件3.2'</span><span style=\"font-weight: bold\">]</span>,\n",
       "    <span style=\"font-weight: bold\">[</span><span style=\"color: #008000; text-decoration-color: #008000\">'表示4'</span>, <span style=\"color: #008000; text-decoration-color: #008000\">'テーブル4.1'</span>, <span style=\"color: #008000; text-decoration-color: #008000\">'項目4.1'</span>, <span style=\"color: #008000; text-decoration-color: #008000\">'条件4.1 条件4.1'</span><span style=\"font-weight: bold\">]</span>,\n",
       "    <span style=\"font-weight: bold\">[</span><span style=\"color: #008000; text-decoration-color: #008000\">'表示4'</span>, <span style=\"color: #008000; text-decoration-color: #008000\">'テーブル4.2'</span>, <span style=\"color: #008000; text-decoration-color: #008000\">'項目4.2'</span>, <span style=\"color: #008000; text-decoration-color: #008000\">'条件4.2 条件4.2'</span><span style=\"font-weight: bold\">]</span>\n",
       "<span style=\"font-weight: bold\">]</span>\n",
       "</pre>\n"
      ],
      "text/plain": [
       "\u001b[1m[\u001b[0m\n",
       "    \u001b[1m[\u001b[0m\u001b[32m'表示1'\u001b[0m, \u001b[32m'テーブル1'\u001b[0m, \u001b[32m'項目1'\u001b[0m, \u001b[32m'条件1'\u001b[0m\u001b[1m]\u001b[0m,\n",
       "    \u001b[1m[\u001b[0m\u001b[32m'表示2'\u001b[0m, \u001b[32m'テーブル2'\u001b[0m, \u001b[32m'項目2'\u001b[0m, \u001b[32m'条件2 条件2 条件2'\u001b[0m\u001b[1m]\u001b[0m,\n",
       "    \u001b[1m[\u001b[0m\u001b[32m'表示3'\u001b[0m, \u001b[32m'テーブル3.1'\u001b[0m, \u001b[32m'項目3.1'\u001b[0m, \u001b[32m'条件3.1'\u001b[0m\u001b[1m]\u001b[0m,\n",
       "    \u001b[1m[\u001b[0m\u001b[32m'表示3'\u001b[0m, \u001b[32m'テーブル3.2'\u001b[0m, \u001b[32m'項目3.2'\u001b[0m, \u001b[32m'条件3.2'\u001b[0m\u001b[1m]\u001b[0m,\n",
       "    \u001b[1m[\u001b[0m\u001b[32m'表示4'\u001b[0m, \u001b[32m'テーブル4.1'\u001b[0m, \u001b[32m'項目4.1'\u001b[0m, \u001b[32m'条件4.1 条件4.1'\u001b[0m\u001b[1m]\u001b[0m,\n",
       "    \u001b[1m[\u001b[0m\u001b[32m'表示4'\u001b[0m, \u001b[32m'テーブル4.2'\u001b[0m, \u001b[32m'項目4.2'\u001b[0m, \u001b[32m'条件4.2 条件4.2'\u001b[0m\u001b[1m]\u001b[0m\n",
       "\u001b[1m]\u001b[0m\n"
      ]
     },
     "metadata": {},
     "output_type": "display_data"
    }
   ],
   "source": [
    "schema = [\n",
    "    '[表示値',\n",
    "    [\n",
    "        'テーブル名',\n",
    "        '項目名',\n",
    "        '条件',\n",
    "    ]\n",
    "]\n",
    "\n",
    "\n",
    "\n",
    "keys = ex.iloc[:, 0].tolist()\n",
    "values = ex.iloc[:, 1].tolist()\n",
    "\n",
    "# 後ろから見ていく\n",
    "\n",
    "ans_list: tuple[str, str] = []\n",
    "str_stack: list[str] = []\n",
    "for i in range(len(keys)):\n",
    "\n",
    "    ri = len(keys) - i - 1\n",
    "\n",
    "    if keys[ri] is np.nan and values[ri] is np.nan: # 両方空なので、スキップ\n",
    "        continue\n",
    "    elif keys[ri] is np.nan and values[ri] is not np.nan:\n",
    "        str_stack.append(values[ri])\n",
    "    elif keys[ri] is not np.nan and values[ri] is np.nan:\n",
    "        raise Exception('index があるのに value がない')\n",
    "    elif keys[ri] is not np.nan and values[ri] is not np.nan:\n",
    "        \n",
    "        str_stack.append(values[ri])\n",
    "        string = ' '.join(str_stack)\n",
    "        str_stack = []\n",
    "        ans_list.append([keys[ri], string])\n",
    "    \n",
    "\n",
    "# 逆順にする\n",
    "ans_list = ans_list[::-1]\n",
    "print('ans_list')\n",
    "print(ans_list)\n",
    "\n",
    "# ------------------ #\n",
    "\n",
    "# \"[表示値\" のあとに、いくつセクションが続くかをカウントする。\n",
    "section_length = 3\n",
    "\n",
    "key_indices = []\n",
    "for i in range(len(ans_list)):\n",
    "    if ans_list[i][0].startswith('[表示値'):\n",
    "        key_indices.append(i)\n",
    "key_indices.append(len(ans_list))\n",
    "\n",
    "print('key_indices')\n",
    "print(key_indices)\n",
    "\n",
    "# ------------------ # \n",
    "\n",
    "continual_section_cnts = []\n",
    "for i in range(1, len(key_indices)):\n",
    "    prev = key_indices[i-1]\n",
    "    curr = key_indices[i]\n",
    "\n",
    "    continual_section_cnt = (curr - prev - 1) // section_length\n",
    "    continual_section_cnts.append(continual_section_cnt)\n",
    "\n",
    "print('continual_section_cnts')\n",
    "print(continual_section_cnts)\n",
    "\n",
    "# ------------------ #\n",
    "print()\n",
    "print('Structure')\n",
    "print()\n",
    "\n",
    "data = []\n",
    "\n",
    "for i in range(len(key_indices) - 1):\n",
    "    print('KEY: {}'.format(ans_list[key_indices[i]][0]))\n",
    "\n",
    "    for j in range(continual_section_cnts[i]):\n",
    "        print('  section {}'.format(j+1))\n",
    "\n",
    "        idata = []\n",
    "        idata.append(ans_list[key_indices[i]][1])\n",
    "\n",
    "        for k in range(section_length):\n",
    "            print('    {}: {}'.format(\n",
    "                # ans_list[key_indices[i] + (j + 1) * (k + 1)][0],\n",
    "                # ans_list[key_indices[i] + (j + 1) * (k + 1)][1]\n",
    "                ans_list[key_indices[i] + section_length * j + k + 1][0],\n",
    "                ans_list[key_indices[i] + section_length * j + k + 1][1]\n",
    "            ))\n",
    "\n",
    "            idata.append(ans_list[key_indices[i] + section_length * j + k + 1][1])\n",
    "    \n",
    "        data.append(idata)\n",
    "\n",
    "print('data')\n",
    "print(data)"
   ]
  },
  {
   "cell_type": "code",
   "execution_count": 43,
   "metadata": {},
   "outputs": [
    {
     "data": {
      "text/html": [
       "<div>\n",
       "<style scoped>\n",
       "    .dataframe tbody tr th:only-of-type {\n",
       "        vertical-align: middle;\n",
       "    }\n",
       "\n",
       "    .dataframe tbody tr th {\n",
       "        vertical-align: top;\n",
       "    }\n",
       "\n",
       "    .dataframe thead th {\n",
       "        text-align: right;\n",
       "    }\n",
       "</style>\n",
       "<table border=\"1\" class=\"dataframe\">\n",
       "  <thead>\n",
       "    <tr style=\"text-align: right;\">\n",
       "      <th></th>\n",
       "      <th>表示値</th>\n",
       "      <th>テーブル名</th>\n",
       "      <th>項目名</th>\n",
       "      <th>条件</th>\n",
       "    </tr>\n",
       "  </thead>\n",
       "  <tbody>\n",
       "    <tr>\n",
       "      <th>0</th>\n",
       "      <td>表示1</td>\n",
       "      <td>テーブル1</td>\n",
       "      <td>項目1</td>\n",
       "      <td>条件1</td>\n",
       "    </tr>\n",
       "    <tr>\n",
       "      <th>1</th>\n",
       "      <td>表示2</td>\n",
       "      <td>テーブル2</td>\n",
       "      <td>項目2</td>\n",
       "      <td>条件2 条件2 条件2</td>\n",
       "    </tr>\n",
       "    <tr>\n",
       "      <th>2</th>\n",
       "      <td>表示3</td>\n",
       "      <td>テーブル3.1</td>\n",
       "      <td>項目3.1</td>\n",
       "      <td>条件3.1</td>\n",
       "    </tr>\n",
       "    <tr>\n",
       "      <th>3</th>\n",
       "      <td>表示3</td>\n",
       "      <td>テーブル3.2</td>\n",
       "      <td>項目3.2</td>\n",
       "      <td>条件3.2</td>\n",
       "    </tr>\n",
       "    <tr>\n",
       "      <th>4</th>\n",
       "      <td>表示4</td>\n",
       "      <td>テーブル4.1</td>\n",
       "      <td>項目4.1</td>\n",
       "      <td>条件4.1 条件4.1</td>\n",
       "    </tr>\n",
       "    <tr>\n",
       "      <th>5</th>\n",
       "      <td>表示4</td>\n",
       "      <td>テーブル4.2</td>\n",
       "      <td>項目4.2</td>\n",
       "      <td>条件4.2 条件4.2</td>\n",
       "    </tr>\n",
       "  </tbody>\n",
       "</table>\n",
       "</div>"
      ],
      "text/plain": [
       "   表示値    テーブル名    項目名           条件\n",
       "0  表示1    テーブル1    項目1          条件1\n",
       "1  表示2    テーブル2    項目2  条件2 条件2 条件2\n",
       "2  表示3  テーブル3.1  項目3.1        条件3.1\n",
       "3  表示3  テーブル3.2  項目3.2        条件3.2\n",
       "4  表示4  テーブル4.1  項目4.1  条件4.1 条件4.1\n",
       "5  表示4  テーブル4.2  項目4.2  条件4.2 条件4.2"
      ]
     },
     "metadata": {},
     "output_type": "display_data"
    }
   ],
   "source": [
    "data_df = pd.DataFrame(data, columns=['表示値', 'テーブル名', '項目名', '条件'])\n",
    "display(data_df)"
   ]
  },
  {
   "cell_type": "code",
   "execution_count": null,
   "metadata": {},
   "outputs": [],
   "source": [
    "class JMECParser:\n",
    "    def __init__(self) -> None:\n",
    "        pass"
   ]
  }
 ],
 "metadata": {
  "kernelspec": {
   "display_name": "py311",
   "language": "python",
   "name": "python3"
  },
  "language_info": {
   "codemirror_mode": {
    "name": "ipython",
    "version": 3
   },
   "file_extension": ".py",
   "mimetype": "text/x-python",
   "name": "python",
   "nbconvert_exporter": "python",
   "pygments_lexer": "ipython3",
   "version": "3.12.3"
  }
 },
 "nbformat": 4,
 "nbformat_minor": 2
}
